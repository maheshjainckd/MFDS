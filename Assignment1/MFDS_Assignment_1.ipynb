{
  "nbformat": 4,
  "nbformat_minor": 0,
  "metadata": {
    "colab": {
      "provenance": []
    },
    "kernelspec": {
      "name": "python3",
      "display_name": "Python 3"
    },
    "language_info": {
      "name": "python"
    }
  },
  "cells": [
    {
      "cell_type": "markdown",
      "source": [
        " a. Read a matrix A from a csv file and a vector b from another csv file"
      ],
      "metadata": {
        "id": "ge4E7QZIqvEk"
      }
    },
    {
      "cell_type": "code",
      "execution_count": 5,
      "metadata": {
        "colab": {
          "base_uri": "https://localhost:8080/"
        },
        "id": "JrrYpbggiE03",
        "outputId": "c456e255-96fc-4320-b9a9-84f2f91171d6"
      },
      "outputs": [
        {
          "output_type": "stream",
          "name": "stdout",
          "text": [
            "Matrix A:\n",
            "[[2 1 1]\n",
            " [1 3 2]\n",
            " [1 2 4]]\n",
            "Vector b:\n",
            "[[1]\n",
            " [2]\n",
            " [3]]\n"
          ]
        }
      ],
      "source": [
        "import pandas as pd\n",
        "\n",
        "# Creating matrix A\n",
        "A = [[2, 1, 1], [1, 3, 2], [1, 2, 4]]\n",
        "\n",
        "# Creating vector b\n",
        "b = [1, 2, 3]\n",
        "\n",
        "# Saving matrix A to csv file\n",
        "pd.DataFrame(A).to_csv(\"A.csv\", header=False, index=False)\n",
        "\n",
        "# Saving vector b to csv file\n",
        "pd.DataFrame(b).to_csv(\"b.csv\", header=False, index=False)\n",
        "\n",
        "# Reading matrix A from csv file\n",
        "A = pd.read_csv(\"A.csv\", header=None)\n",
        "A = A.values\n",
        "\n",
        "# Reading vector b from csv file\n",
        "b = pd.read_csv(\"b.csv\", header=None)\n",
        "b = b.values.reshape(-1,1)\n",
        "\n",
        "print(\"Matrix A:\")\n",
        "print(A)\n",
        "\n",
        "print(\"Vector b:\")\n",
        "print(b)\n",
        "\n"
      ]
    },
    {
      "cell_type": "markdown",
      "source": [
        " b. Perform LU decomposition for square matrix"
      ],
      "metadata": {
        "id": "qk4bknHkrM47"
      }
    },
    {
      "cell_type": "code",
      "source": [
        "from scipy.linalg import lu\n",
        "\n",
        "# Performing LU decomposition\n",
        "P, L, U = lu(A)\n",
        "\n",
        "print(\"Permutation Matrix P:\")\n",
        "print(P)\n",
        "\n",
        "print(\"Lower Triangular Matrix L:\")\n",
        "print(L)\n",
        "\n",
        "print(\"Upper Triangular Matrix U:\")\n",
        "print(U)\n",
        "\n",
        "print(\"Decomposition A = P*L*U:\")\n",
        "print(P @ L @ U)\n"
      ],
      "metadata": {
        "colab": {
          "base_uri": "https://localhost:8080/"
        },
        "id": "zK61vWVWji2P",
        "outputId": "940a82a5-e7bf-4c90-ba52-42a4e4beaa1c"
      },
      "execution_count": 6,
      "outputs": [
        {
          "output_type": "stream",
          "name": "stdout",
          "text": [
            "Permutation Matrix P:\n",
            "[[1. 0. 0.]\n",
            " [0. 1. 0.]\n",
            " [0. 0. 1.]]\n",
            "Lower Triangular Matrix L:\n",
            "[[1.  0.  0. ]\n",
            " [0.5 1.  0. ]\n",
            " [0.5 0.6 1. ]]\n",
            "Upper Triangular Matrix U:\n",
            "[[2.  1.  1. ]\n",
            " [0.  2.5 1.5]\n",
            " [0.  0.  2.6]]\n",
            "Decomposition A = P*L*U:\n",
            "[[2. 1. 1.]\n",
            " [1. 3. 2.]\n",
            " [1. 2. 4.]]\n"
          ]
        }
      ]
    },
    {
      "cell_type": "markdown",
      "source": [
        "c.  Solve the equation Ax=b and check whether there are 0,1 or infinitely many solutions"
      ],
      "metadata": {
        "id": "hr646PjhrYXV"
      }
    },
    {
      "cell_type": "code",
      "source": [
        "import numpy as np\n",
        "\n",
        "# Solving for x\n",
        "x = np.linalg.inv(A) @ b\n",
        "\n",
        "# Check if the solution is unique or not\n",
        "rank_A = np.linalg.matrix_rank(A)\n",
        "rank_AB = np.linalg.matrix_rank(np.hstack((A,b)))\n",
        "\n",
        "if rank_A == rank_AB and rank_A == A.shape[1]:\n",
        "    print(\"Unique solution. x = \")\n",
        "    print(x)\n",
        "elif rank_A == rank_AB and rank_A < A.shape[1]:\n",
        "    print(\"Infinitely many solutions.\")\n",
        "else:\n",
        "    print(\"No solution.\")\n"
      ],
      "metadata": {
        "colab": {
          "base_uri": "https://localhost:8080/"
        },
        "id": "17mg3dp9lmZi",
        "outputId": "a6d64abc-e1a4-4146-97c5-00128282115d"
      },
      "execution_count": 8,
      "outputs": [
        {
          "output_type": "stream",
          "name": "stdout",
          "text": [
            "Unique solution. x = \n",
            "[[0.07692308]\n",
            " [0.23076923]\n",
            " [0.61538462]]\n"
          ]
        }
      ]
    },
    {
      "cell_type": "markdown",
      "source": [
        " d.  Do the diagonalization of a matrix (assume it is symmetric)"
      ],
      "metadata": {
        "id": "dB1qRugkrd99"
      }
    },
    {
      "cell_type": "code",
      "source": [
        "from numpy.linalg import eig\n",
        "\n",
        "# Find the eigenvalues and eigenvectors of A\n",
        "eigenvalues, eigenvectors = eig(A)\n",
        "\n",
        "# Make sure that the matrix is symmetric\n",
        "if (A.T != A).any():\n",
        "    print(\"Matrix is not symmetric.\")\n",
        "else:\n",
        "    # Diagonalize the matrix A\n",
        "    D = np.diag(eigenvalues)\n",
        "    P = eigenvectors\n",
        "\n",
        "    print(\"Diagonalized Matrix D:\")\n",
        "    print(D)\n",
        "\n",
        "    print(\"Eigenvectors Matrix P:\")\n",
        "    print(P)\n",
        "\n",
        "    print(\"Diagonalization A = PDP^(-1):\")\n",
        "    print(P @ D @ inv(P))\n",
        "\n"
      ],
      "metadata": {
        "colab": {
          "base_uri": "https://localhost:8080/"
        },
        "id": "wx4vKxcamrXH",
        "outputId": "60cb4971-c491-4b40-9cf1-47a81d55c70a"
      },
      "execution_count": 15,
      "outputs": [
        {
          "output_type": "stream",
          "name": "stdout",
          "text": [
            "Diagonalized Matrix D:\n",
            "[[6.04891734 0.         0.        ]\n",
            " [0.         1.64310413 0.        ]\n",
            " [0.         0.         1.30797853]]\n",
            "Eigenvectors Matrix P:\n",
            "[[-0.32798528 -0.73697623  0.59100905]\n",
            " [-0.59100905 -0.32798528 -0.73697623]\n",
            " [-0.73697623  0.59100905  0.32798528]]\n",
            "Diagonalization A = PDP^(-1):\n",
            "[[2. 1. 1.]\n",
            " [1. 3. 2.]\n",
            " [1. 2. 4.]]\n"
          ]
        }
      ]
    },
    {
      "cell_type": "markdown",
      "source": [
        "e.  Give exponential, sine and sigmoid functions on A"
      ],
      "metadata": {
        "id": "oWT2eZJzrlfo"
      }
    },
    {
      "cell_type": "code",
      "source": [
        "import numpy as np\n",
        "\n",
        "# Applying exponential function on A\n",
        "exp_A = np.exp(A)\n",
        "print(\"Exponential of A:\")\n",
        "print(exp_A)\n",
        "\n",
        "# Applying sine function on A\n",
        "sin_A = np.sin(A)\n",
        "print(\"Sine of A:\")\n",
        "print(sin_A)\n",
        "\n",
        "# Applying sigmoid function on A\n",
        "sig_A = 1 / (1 + np.exp(-A))\n",
        "print(\"Sigmoid of A:\")\n",
        "print(sig_A)\n"
      ],
      "metadata": {
        "colab": {
          "base_uri": "https://localhost:8080/"
        },
        "id": "fI24pM0tn7Kc",
        "outputId": "9473ea6f-eb66-493b-a5cb-be222466fc08"
      },
      "execution_count": 11,
      "outputs": [
        {
          "output_type": "stream",
          "name": "stdout",
          "text": [
            "Exponential of A:\n",
            "[[ 7.3890561   2.71828183  2.71828183]\n",
            " [ 2.71828183 20.08553692  7.3890561 ]\n",
            " [ 2.71828183  7.3890561  54.59815003]]\n",
            "Sine of A:\n",
            "[[ 0.90929743  0.84147098  0.84147098]\n",
            " [ 0.84147098  0.14112001  0.90929743]\n",
            " [ 0.84147098  0.90929743 -0.7568025 ]]\n",
            "Sigmoid of A:\n",
            "[[0.88079708 0.73105858 0.73105858]\n",
            " [0.73105858 0.95257413 0.88079708]\n",
            " [0.73105858 0.88079708 0.98201379]]\n"
          ]
        }
      ]
    },
    {
      "cell_type": "markdown",
      "source": [
        "f.   Find all the eigenpairs of A"
      ],
      "metadata": {
        "id": "ZV65l9wZrrXv"
      }
    },
    {
      "cell_type": "code",
      "source": [
        "eigenvalues, eigenvectors = np.linalg.eig(A)\n",
        "\n",
        "print(\"Eigenvalues:\")\n",
        "print(eigenvalues)\n",
        "\n",
        "print(\"Eigenvectors:\")\n",
        "print(eigenvectors)\n"
      ],
      "metadata": {
        "colab": {
          "base_uri": "https://localhost:8080/"
        },
        "id": "788YTSAZoGRa",
        "outputId": "8cc83f42-331f-4c22-8029-0b71484ac347"
      },
      "execution_count": 12,
      "outputs": [
        {
          "output_type": "stream",
          "name": "stdout",
          "text": [
            "Eigenvalues:\n",
            "[6.04891734 1.64310413 1.30797853]\n",
            "Eigenvectors:\n",
            "[[-0.32798528 -0.73697623  0.59100905]\n",
            " [-0.59100905 -0.32798528 -0.73697623]\n",
            " [-0.73697623  0.59100905  0.32798528]]\n"
          ]
        }
      ]
    }
  ]
}